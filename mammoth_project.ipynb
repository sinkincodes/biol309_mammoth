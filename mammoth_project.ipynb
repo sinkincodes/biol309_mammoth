{
 "cells": [
  {
   "cell_type": "code",
   "execution_count": 30,
   "metadata": {},
   "outputs": [
    {
     "name": "stdout",
     "output_type": "stream",
     "text": [
      "Populating the interactive namespace from numpy and matplotlib\n"
     ]
    }
   ],
   "source": [
    "%pylab inline\n",
    "import math\n",
    "import numpy as np\n",
    "import scipy\n",
    "import random\n",
    "import matplotlib\n",
    "import matplotlib.pyplot as plt\n",
    "import matplotlib.cm as cm\n",
    "from pylab import *"
   ]
  },
  {
   "cell_type": "markdown",
   "metadata": {},
   "source": [
    "# Simulation with grid"
   ]
  },
  {
   "cell_type": "code",
   "execution_count": 73,
   "metadata": {},
   "outputs": [],
   "source": [
    "# location of each grid can be expressed as (x,y)\n",
    "# Please complete this cell to make realistic models\n",
    "\n",
    "def biome(x,y):\n",
    "    '''\n",
    "    To find the biome a small population living in.\n",
    "    This function should be corresponding to the map by color.\n",
    "    To label the biome, let:\n",
    "    ice = 0, tundra = 1, ...\n",
    "    '''\n",
    "    # You can add time dependence if the landscape changes over time.\n",
    "    if x in range(3,7) and y in range(3,7):\n",
    "        return 1\n",
    "    else:\n",
    "        return 0\n",
    "    \n",
    "\n",
    "def human(x,y,t):\n",
    "    '''\n",
    "    To find whether human hunting exists.\n",
    "    This depends on location and time.\n",
    "    no human hunting = 0, human hunting = 1\n",
    "    Note: the level of hunting activity is not binary, so this function can be improved\n",
    "    '''\n",
    "    return 1 #need add settings\n",
    "\n",
    "\n",
    "def food(x,y,t):\n",
    "    '''\n",
    "    To find whether food is sufficient in the region.\n",
    "    This may depends on biome, time, precipitation and temperature.\n",
    "    0 = no food, 1 = sufficient food\n",
    "    '''\n",
    "    # the following is an example\n",
    "    if biome(x,y) == 1:\n",
    "        return 1\n",
    "    else:\n",
    "        return 0\n",
    "\n",
    "def FR(x,y,t):\n",
    "    '''\n",
    "    Defines fertility rate per mammoth(not per couple). Depends on location and time.\n",
    "    '''\n",
    "    if biome(x,y) == 1 and food(x,y,t) == 1: #if in tundra and food is sufficient\n",
    "        return 0.4\n",
    "    if biome(x,y) == 0: #if ice\n",
    "        return 0\n",
    "    else:\n",
    "        return 100 # setting to be filled in\n",
    "    \n",
    "def DR(x,y,t):\n",
    "    '''\n",
    "    Defines death rate, similar to above.\n",
    "    Make DR very high to kill off all mammoth into the sea, so we don't need to deal with edges.\n",
    "    '''\n",
    "    if pop_map[i,j] == 0:\n",
    "        return 0 # No mammoth alive, no mammoth die.\n",
    "    else:\n",
    "        if biome(x,y) == 1 and food(x,y,t) == 1:\n",
    "            return 0.1\n",
    "        else: # if no food or on ice\n",
    "            return 1"
   ]
  },
  {
   "cell_type": "markdown",
   "metadata": {},
   "source": [
    "Now we have some functions about local variables, so we can write the rules for the grids."
   ]
  },
  {
   "cell_type": "code",
   "execution_count": 78,
   "metadata": {},
   "outputs": [],
   "source": [
    "# Set up the initial conditions\n",
    "go = 0.3 # chance of leaving the grid cell, you may set this as a function like FR and DR.\n",
    "\n",
    "\n",
    "def pop():\n",
    "    '''\n",
    "    This function calculates the population at location (x,y) at time t\n",
    "    \n",
    "    '''\n",
    "    # assuming at each time step only one mammoth can leave the cell\n",
    "    for i in range(map_size[0]):\n",
    "        for j in range(map_size[1]):\n",
    "            if pop_map[i,j] == 0:\n",
    "                continue\n",
    "            else:\n",
    "                dice = random()\n",
    "                if dice <= go:\n",
    "                    pop_map[i,j] -= 1\n",
    "                    if dice // (go/4) == 0:\n",
    "                        pop_map[i+1, j] += 1\n",
    "                    elif dice // (go/4) == 1:\n",
    "                        pop_map[i-1, j] += 1\n",
    "                    elif dice // (go/4) == 2:\n",
    "                        pop_map[i, j+1] += 1\n",
    "                    elif dice // (go/4) == 3:\n",
    "                        pop_map[i, j-1] += 1\n",
    "                    else:\n",
    "                        print(\"bug!\")\n",
    "\n",
    "                if random() <= DR(i,j,t):\n",
    "                    pop_map[i,j] *= (1 - DR(i,j,t))\n",
    "                    pop_map[i,j] = pop_map[i,j] // 1\n",
    "\n",
    "                if random() <= FR(i,j,t):\n",
    "                    pop_map[i,j] *= (1 + FR(i,j,t))\n",
    "                    pop_map[i,j] = pop_map[i,j] // 1\n",
    "\n",
    "                else:\n",
    "                    continue\n",
    "            "
   ]
  },
  {
   "cell_type": "code",
   "execution_count": null,
   "metadata": {},
   "outputs": [],
   "source": []
  },
  {
   "cell_type": "code",
   "execution_count": 79,
   "metadata": {},
   "outputs": [],
   "source": [
    "# create the map\n",
    "map_size = (10,10)\n",
    "density_map = np.zeros(map_size)\n",
    "biome_map = np.zeros(map_size)\n",
    "pop_map = np.zeros(map_size)\n",
    "t = 0\n",
    "\n",
    "\n",
    "# initialize the conditions\n",
    "for i in range(map_size[0]):\n",
    "    for j in range(map_size[1]):\n",
    "        biome_map[i,j] = biome(i,j)\n",
    "        if biome_map[i,j] == 1:\n",
    "            pop_map[i,j] = 5\n",
    "        else:\n",
    "            pop_map[i,j] = 0"
   ]
  },
  {
   "cell_type": "code",
   "execution_count": 80,
   "metadata": {},
   "outputs": [
    {
     "data": {
      "text/plain": [
       "array([[0., 0., 0., 0., 0., 0., 0., 0., 0., 0.],\n",
       "       [0., 0., 0., 0., 0., 0., 0., 0., 0., 0.],\n",
       "       [0., 0., 0., 0., 0., 0., 0., 0., 0., 0.],\n",
       "       [0., 0., 0., 5., 5., 5., 5., 0., 0., 0.],\n",
       "       [0., 0., 0., 5., 5., 5., 5., 0., 0., 0.],\n",
       "       [0., 0., 0., 5., 5., 5., 5., 0., 0., 0.],\n",
       "       [0., 0., 0., 5., 5., 5., 5., 0., 0., 0.],\n",
       "       [0., 0., 0., 0., 0., 0., 0., 0., 0., 0.],\n",
       "       [0., 0., 0., 0., 0., 0., 0., 0., 0., 0.],\n",
       "       [0., 0., 0., 0., 0., 0., 0., 0., 0., 0.]])"
      ]
     },
     "execution_count": 80,
     "metadata": {},
     "output_type": "execute_result"
    }
   ],
   "source": [
    "pop_map"
   ]
  },
  {
   "cell_type": "code",
   "execution_count": 81,
   "metadata": {},
   "outputs": [],
   "source": [
    "for t in range(10):\n",
    "    t += 1\n",
    "    pop()"
   ]
  },
  {
   "cell_type": "code",
   "execution_count": 82,
   "metadata": {},
   "outputs": [
    {
     "data": {
      "text/plain": [
       "array([[ 0.,  0.,  0.,  0.,  0.,  0.,  0.,  0.,  0.,  0.],\n",
       "       [ 0.,  0.,  0.,  0.,  0.,  0.,  0.,  0.,  0.,  0.],\n",
       "       [ 0.,  0.,  0.,  0.,  0.,  0.,  0.,  0.,  0.,  0.],\n",
       "       [ 0.,  0.,  0., 23., 27., 20., 18.,  1.,  0.,  0.],\n",
       "       [ 0.,  0.,  1., 40.,  5., 22., 31.,  1.,  0.,  0.],\n",
       "       [ 0.,  0.,  0.,  6., 10.,  4., 19.,  1.,  0.,  0.],\n",
       "       [ 0.,  0.,  1., 20., 18., 73., 10.,  0.,  0.,  0.],\n",
       "       [ 0.,  0.,  0.,  0.,  0.,  2.,  1.,  0.,  0.,  0.],\n",
       "       [ 0.,  0.,  0.,  0.,  0.,  0.,  0.,  0.,  0.,  0.],\n",
       "       [ 0.,  0.,  0.,  0.,  0.,  0.,  0.,  0.,  0.,  0.]])"
      ]
     },
     "execution_count": 82,
     "metadata": {},
     "output_type": "execute_result"
    }
   ],
   "source": [
    "pop_map"
   ]
  },
  {
   "cell_type": "code",
   "execution_count": null,
   "metadata": {},
   "outputs": [],
   "source": []
  }
 ],
 "metadata": {
  "kernelspec": {
   "display_name": "Python 3",
   "language": "python",
   "name": "python3"
  },
  "language_info": {
   "codemirror_mode": {
    "name": "ipython",
    "version": 3
   },
   "file_extension": ".py",
   "mimetype": "text/x-python",
   "name": "python",
   "nbconvert_exporter": "python",
   "pygments_lexer": "ipython3",
   "version": "3.7.3"
  }
 },
 "nbformat": 4,
 "nbformat_minor": 2
}
